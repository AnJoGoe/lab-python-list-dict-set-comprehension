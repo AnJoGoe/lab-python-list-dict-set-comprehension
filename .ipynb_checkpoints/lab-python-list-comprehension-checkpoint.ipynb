{
 "cells": [
  {
   "cell_type": "markdown",
   "id": "25d7736c-ba17-4aff-b6bb-66eba20fbf4e",
   "metadata": {},
   "source": [
    "# Lab | List, Dict and Set Comprehension"
   ]
  },
  {
   "cell_type": "markdown",
   "id": "7dd3cbde-675a-4b81-92c3-f728846dbe06",
   "metadata": {},
   "source": [
    "## Exercise: Managing Customer Orders Optimized with Comprehension"
   ]
  },
  {
   "cell_type": "markdown",
   "id": "5d500160-2fb7-4777-b5e4-09d45ebaf328",
   "metadata": {},
   "source": [
    "In the previous exercise, you developed a program to manage customer orders and inventory. Now, let's take it a step further and incorporate comprehension into your code.\n",
    "\n",
    "Follow the steps below to complete the exercise:\n",
    "\n",
    "1. Review your code from the previous exercise and identify areas where you can apply comprehension to simplify and streamline your code. \n",
    "\n",
    "    - *Hint: Apply it to initialize inventory, updating the inventory and printing the updated inventory.*\n",
    "    \n",
    "    - For example, in initializing the inventory, we could have:\n",
    "    \n",
    "        ```python\n",
    "        def initialize_inventory(products):\n",
    "            inventory = {product: int(input(f\"Enter the quantity of {product}s available: \")) for product in products}\n",
    "            return inventory\n",
    "\n",
    "        ```\n",
    "<br>\n",
    "    \n",
    "    \n",
    "2. Modify the function get_customer_orders so it prompts the user to enter the number of customer orders and gathers the product names using a loop and user input. Use comprehension.\n",
    "\n",
    "3. Add a new function to calculate the total price of the customer order. For each product in customer_orders, prompt the user to enter the price of that product. Use comprehension to calculate the total price. Note: assume that the user can only have 1 unit of each product.\n",
    "\n",
    "4. Modify the update_inventory function to remove the product from the inventory if its quantity becomes zero after fulfilling the customer orders. Use comprehension to filter out the products with a quantity of zero from the inventory.\n",
    "\n",
    "5. Print the total price of the customer order.\n",
    "\n",
    "Your code should produce output similar to the following:\n",
    "\n",
    "```python\n",
    "Enter the quantity of t-shirts available:  5\n",
    "Enter the quantity of mugs available:  4\n",
    "Enter the quantity of hats available:  3\n",
    "Enter the quantity of books available:  2\n",
    "Enter the quantity of keychains available:  1\n",
    "Enter the number of customer orders:  2\n",
    "Enter the name of a product that a customer wants to order:  hat\n",
    "Enter the name of a product that a customer wants to order:  keychain\n",
    "\n",
    "Order Statistics:\n",
    "Total Products Ordered: 2\n",
    "Percentage of Unique Products Ordered: 40.0\n",
    "\n",
    "Updated Inventory:\n",
    "t-shirt: 5\n",
    "mug: 4\n",
    "hat: 2\n",
    "book: 2\n",
    "Enter the price of keychain:  5\n",
    "Enter the price of hat:  10\n",
    "Total Price: 15.0\n",
    "\n",
    "```\n"
   ]
  },
  {
   "cell_type": "code",
   "execution_count": null,
   "id": "ef57d108-a17e-4b71-b15f-c1a57899697e",
   "metadata": {},
   "outputs": [],
   "source": []
  },
  {
   "cell_type": "code",
   "execution_count": 85,
   "id": "b922f517-1beb-4f46-8d4e-90d1f3798905",
   "metadata": {
    "tags": []
   },
   "outputs": [],
   "source": [
    "### Functions\n",
    "\n",
    "\n",
    "#Extra 1: Function that shows available products\n",
    "def available_prods(inventory):\n",
    "    \"\"\"\n",
    "    available_prods_list = []\n",
    "    for key,value in inventory.items():\n",
    "        if value != 0:\n",
    "            available_prods_list.append(key)\n",
    "    return available_prods_list\n",
    "    \"\"\"\n",
    "    available_prods_list = [key for key,value in inventory.items() if value != 0]\n",
    "\n",
    "    \n",
    "    return available_prods_list\n",
    "    \n",
    "    \n",
    "\n",
    "# 1. Define a function named `initialize_inventory` that takes `products` as a parameter. Inside the function, implement the code for initializing the inventory dictionary using a loop and user input.\n",
    "def initialize_inventory(products):\n",
    "    \"\"\"\n",
    "    The function takes a product and initializes the inventory dictionary\n",
    "    \"\"\"\n",
    "    inventory = {}\n",
    "\n",
    "    for prod in products:\n",
    "        while True:\n",
    "            try:\n",
    "                quantity = abs(int(input(f\"Add the quantity for product {prod}: \")))\n",
    "                inventory[prod] = quantity\n",
    "                break\n",
    "\n",
    "            except: print(\"This is not a valid input value! Please enter an integer!\")\n",
    "            \n",
    "    return inventory\n",
    "\n",
    "    \n",
    "\n",
    "# 2. Define a function named `get_customer_orders` that takes no parameters. Inside the function, implement the code for prompting the user to enter the product names using a loop. The function should return the `customer_orders` set.--> Modification: customer_oders --> dictionary instead of set\n",
    "## Modify the function get_customer_orders so it prompts the user to enter the number of customer orders and gathers the product names using a loop and user input. Use comprehension.\n",
    "\n",
    "def get_customer_orders(inventory):\n",
    "    \"\"\"\n",
    "    Store customer orders\n",
    "    \"\"\"\n",
    "    available_prods_list = available_prods(inventory)\n",
    "    \n",
    "    print(\"You can by the following products: \", ' and '.join([str(elem) for i,elem in enumerate(available_prods_list)]))\n",
    "    \n",
    "    customer_orders = {}\n",
    "\n",
    "    basket =  [key for key in inventory if inventory[key] != 0]\n",
    "#print(basket)\n",
    "\n",
    "\n",
    "    user_decision = \"yes\"\n",
    "\n",
    "    prod_no = 1\n",
    "\n",
    "    while user_decision == \"yes\":\n",
    "\n",
    "        while (purchase := input(f\"Add product {prod_no} to shopping card: \").lower()) not in basket:\n",
    "            print(\"Selected product is not available!\")\n",
    "        \n",
    "        if customer_orders.get(purchase, 'Not found') == 'Not found':\n",
    "            customer_orders[purchase] = 1\n",
    "            #print(customer_orders)\n",
    "        else:\n",
    "            customer_orders[purchase] += 1\n",
    "\n",
    "        \n",
    "        # Update inventory\n",
    "        inventory = update_inventory(purchase, inventory)\n",
    "        basket = [key for key in inventory if inventory[key] != 0]\n",
    "        \n",
    "\n",
    "        while (user_decision := input(\"Do you want to add another purchase (yes/no): \") or \"yes\").lower() not in [\"yes\", \"no\"]:\n",
    "            print(\"Please select Yes or No!\")\n",
    "\n",
    "\n",
    "        prod_no += 1\n",
    "        #customer_orders.add(purchase)\n",
    "\n",
    "    return customer_orders, inventory\n",
    "        \n",
    "       \n",
    "\n",
    "# 3. Add a new function to calculate the total price of the customer order. For each product in customer_orders, prompt the user to enter the price of that product. Use comprehension to calculate the total price. Note: assume that the user can only have 1 unit of each product.\n",
    "#### Print the total price of the customer order.\n",
    "def calc_order_price (customer_orders:dict):\n",
    "    \"\"\"\n",
    "    calculate the total price of the customer order\n",
    "    \"\"\"\n",
    "    total_price = 0\n",
    "    \n",
    "    for key,value in customer_orders.items():\n",
    "        while True:\n",
    "            try:\n",
    "                price = abs(float(input(f\"Add the price (€) for product {key}: \")))\n",
    "                \n",
    "                total_price += (price*value)\n",
    "                \n",
    "                break\n",
    "            \n",
    "            except: print(\"This is not a valid input value! Please enter a number!\")\n",
    "    \n",
    "    print(f\"Total Price: {round(total_price,2)}\")\n",
    "\n",
    "\n",
    "\n",
    "    \n",
    "# 4. Define a function named `update_inventory` that takes `customer_orders` and `inventory` as parameters. Inside the function, implement the code for updating the inventory dictionary based on the customer orders. --> Modification: function arg: purchase instead of customer_orders\n",
    "### Modify the update_inventory function to remove the product from the inventory if its quantity becomes zero after fulfilling the customer orders. Use comprehension to filter out the products with a quantity of zero from the inventory.\n",
    "\n",
    "def update_inventory(purchase, inventory:dict):\n",
    "    \"\"\"\n",
    "    Update inventory\n",
    "    \"\"\"\n",
    "    inventory[purchase] -= 1\n",
    "    \n",
    "    \n",
    "    inventory = {key: val for key, val in inventory.items() if val != 0}\n",
    "    print(\"Updated new inventory: \", inventory)\n",
    "\n",
    "    return inventory\n",
    "\n",
    "# 5. Define a function named `calculate_order_statistics` that takes `customer_orders` and `products` as parameters. Inside the function, implement the code for calculating the order statistics (total products ordered, and percentage of unique products ordered). The function should return these values. --> Modification: function arg: inventory instead of products list\n",
    "def calculate_order_statistics(customer_orders:dict, inventory:dict):\n",
    "    \"\"\"\n",
    "    `calculate_order_statistics` that takes `customer_orders` and `inventory` as parameters\n",
    "    \"\"\"\n",
    "    \n",
    "    total_available_products = sum(inventory.values())\n",
    "    #print(inventory)\n",
    "    #print(f\"Total products available: {total_available_products}\")\n",
    "    \n",
    "    total_products_ordered = sum(customer_orders.values())\n",
    "    percentage_ordered = round((total_products_ordered/total_available_products)*100, 2)\n",
    "\n",
    "    return total_products_ordered, percentage_ordered\n",
    "\n",
    "# 6. Define a function named `print_order_statistics` that takes `order_statistics` as a parameter. Inside the function, implement the code for printing the order statistics.\n",
    "def print_order_statistics(total_products_ordered:int, percentage_ordered:float):\n",
    "    \"\"\"\n",
    "    print_order_statistics\n",
    "    \"\"\"\n",
    "    \n",
    "    print(\"Order Statistics:\")\n",
    "    print(f\"Total Products ordered {total_products_ordered}\")\n",
    "    print(f\"Percentage of Products Ordered: {percentage_ordered}% \")\n",
    "\n",
    "# 7. Define a function named `print_updated_inventory` that takes `inventory` as a parameter. Inside the function, implement the code for printing the updated inventory.\n",
    "def print_updated_inventory(inventory:dict):\n",
    "    \"\"\"\n",
    "    Print updated inventory\n",
    "    \"\"\"\n",
    "    for key, value in inventory.items():\n",
    "        print(f\"The updated inventory contains {value} piece(s) of product {key}\")\n",
    "\n"
   ]
  },
  {
   "cell_type": "code",
   "execution_count": 48,
   "id": "f19de676-f63b-4af5-995a-1d6f6f891460",
   "metadata": {
    "tags": []
   },
   "outputs": [],
   "source": []
  },
  {
   "cell_type": "code",
   "execution_count": null,
   "id": "9d8fe715-33bc-4956-90e6-cdea1b9a8ed7",
   "metadata": {},
   "outputs": [],
   "source": []
  },
  {
   "cell_type": "code",
   "execution_count": null,
   "id": "962b63dd-35fd-44f8-92dc-9b72e3f8d158",
   "metadata": {},
   "outputs": [],
   "source": []
  },
  {
   "cell_type": "markdown",
   "id": "902df292-38b8-479b-a0a0-bd3437fb081a",
   "metadata": {
    "tags": []
   },
   "source": [
    "# 7. Call the functions in the appropriate sequence to execute the program and manage customer orders.m"
   ]
  },
  {
   "cell_type": "code",
   "execution_count": 75,
   "id": "73f8c031-e5e2-48e0-b53a-bc2a8525cbc7",
   "metadata": {
    "tags": []
   },
   "outputs": [],
   "source": [
    "products = [\"t-shirt\", \"mug\", \"hat\", \"book\", \"keychain\"]\n"
   ]
  },
  {
   "cell_type": "code",
   "execution_count": 76,
   "id": "40a072d0-bb6f-4e90-9f42-13760052bfbd",
   "metadata": {
    "tags": []
   },
   "outputs": [
    {
     "name": "stdin",
     "output_type": "stream",
     "text": [
      "Add the quantity for product t-shirt:  2\n",
      "Add the quantity for product mug:  0\n",
      "Add the quantity for product hat:  1\n",
      "Add the quantity for product book:  1\n",
      "Add the quantity for product keychain:  2\n"
     ]
    }
   ],
   "source": [
    "inventory = initialize_inventory(products)"
   ]
  },
  {
   "cell_type": "code",
   "execution_count": 77,
   "id": "489137c6-526d-4034-bc20-cd789c8a4780",
   "metadata": {
    "tags": []
   },
   "outputs": [
    {
     "name": "stdout",
     "output_type": "stream",
     "text": [
      "You can by the following products:  t-shirt and hat and book and keychain\n"
     ]
    },
    {
     "name": "stdin",
     "output_type": "stream",
     "text": [
      "Add product 1 to shopping card:  t-shirt\n"
     ]
    },
    {
     "name": "stdout",
     "output_type": "stream",
     "text": [
      "Updated new inventory:  {'t-shirt': 1, 'hat': 1, 'book': 1, 'keychain': 2}\n"
     ]
    },
    {
     "name": "stdin",
     "output_type": "stream",
     "text": [
      "Do you want to add another purchase (yes/no):  yes\n",
      "Add product 2 to shopping card:  hat\n"
     ]
    },
    {
     "name": "stdout",
     "output_type": "stream",
     "text": [
      "Updated new inventory:  {'t-shirt': 1, 'book': 1, 'keychain': 2}\n"
     ]
    },
    {
     "name": "stdin",
     "output_type": "stream",
     "text": [
      "Do you want to add another purchase (yes/no):  yes\n",
      "Add product 3 to shopping card:  book\n"
     ]
    },
    {
     "name": "stdout",
     "output_type": "stream",
     "text": [
      "Updated new inventory:  {'t-shirt': 1, 'keychain': 2}\n"
     ]
    },
    {
     "name": "stdin",
     "output_type": "stream",
     "text": [
      "Do you want to add another purchase (yes/no):  yes\n",
      "Add product 4 to shopping card:  keychain\n"
     ]
    },
    {
     "name": "stdout",
     "output_type": "stream",
     "text": [
      "Updated new inventory:  {'t-shirt': 1, 'keychain': 1}\n"
     ]
    },
    {
     "name": "stdin",
     "output_type": "stream",
     "text": [
      "Do you want to add another purchase (yes/no):  no\n"
     ]
    }
   ],
   "source": [
    "customer_orders, inventory = get_customer_orders(inventory)"
   ]
  },
  {
   "cell_type": "code",
   "execution_count": 78,
   "id": "d263beb7-60ef-4273-aafd-71eee8009fbc",
   "metadata": {
    "tags": []
   },
   "outputs": [
    {
     "data": {
      "text/plain": [
       "({'t-shirt': 1, 'hat': 1, 'book': 1, 'keychain': 1},\n",
       " {'t-shirt': 1, 'keychain': 1})"
      ]
     },
     "execution_count": 78,
     "metadata": {},
     "output_type": "execute_result"
    }
   ],
   "source": [
    "customer_orders, inventory"
   ]
  },
  {
   "cell_type": "code",
   "execution_count": 79,
   "id": "790e713a-0a19-448c-b641-2fcd628bce60",
   "metadata": {
    "tags": []
   },
   "outputs": [
    {
     "data": {
      "text/plain": [
       "(4, 200.0)"
      ]
     },
     "execution_count": 79,
     "metadata": {},
     "output_type": "execute_result"
    }
   ],
   "source": [
    "total_products_ordered, percentage_ordered = calculate_order_statistics(customer_orders, inventory)\n",
    "total_products_ordered, percentage_ordered"
   ]
  },
  {
   "cell_type": "code",
   "execution_count": 80,
   "id": "8552d2c0-9640-40f8-a67e-e6184522cbb6",
   "metadata": {
    "tags": []
   },
   "outputs": [
    {
     "name": "stdout",
     "output_type": "stream",
     "text": [
      "Order Statistics:\n",
      "Total Products ordered 4\n",
      "Percentage of Products Ordered: 200.0% \n"
     ]
    }
   ],
   "source": [
    "print_order_statistics(total_products_ordered, percentage_ordered)"
   ]
  },
  {
   "cell_type": "code",
   "execution_count": 81,
   "id": "a1bd1b09-6e32-4767-855c-7c3fafca7e73",
   "metadata": {
    "tags": []
   },
   "outputs": [
    {
     "name": "stdout",
     "output_type": "stream",
     "text": [
      "The updated inventory contains 1 piece(s) of product t-shirt\n",
      "The updated inventory contains 1 piece(s) of product keychain\n"
     ]
    }
   ],
   "source": [
    "print_updated_inventory(inventory)"
   ]
  },
  {
   "cell_type": "code",
   "execution_count": 86,
   "id": "660c7d57-a5b7-4a1a-b9b3-803cc47d010c",
   "metadata": {
    "tags": []
   },
   "outputs": [
    {
     "name": "stdin",
     "output_type": "stream",
     "text": [
      "Add the price (€) for product t-shirt:  19.99\n",
      "Add the price (€) for product hat:  25.50\n",
      "Add the price (€) for product book:  14.80\n",
      "Add the price (€) for product keychain:  4.45\n"
     ]
    },
    {
     "name": "stdout",
     "output_type": "stream",
     "text": [
      "Total Price: 64.74\n"
     ]
    }
   ],
   "source": [
    "calc_order_price(customer_orders)"
   ]
  },
  {
   "cell_type": "code",
   "execution_count": null,
   "id": "5ac5eb7f-a405-4995-b3f2-90b7ad9a9fd6",
   "metadata": {},
   "outputs": [],
   "source": []
  }
 ],
 "metadata": {
  "kernelspec": {
   "display_name": "Python 3 (ipykernel)",
   "language": "python",
   "name": "python3"
  },
  "language_info": {
   "codemirror_mode": {
    "name": "ipython",
    "version": 3
   },
   "file_extension": ".py",
   "mimetype": "text/x-python",
   "name": "python",
   "nbconvert_exporter": "python",
   "pygments_lexer": "ipython3",
   "version": "3.11.5"
  }
 },
 "nbformat": 4,
 "nbformat_minor": 5
}
